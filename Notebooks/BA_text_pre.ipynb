{
 "cells": [
  {
   "cell_type": "code",
   "execution_count": 1,
   "metadata": {
    "id": "lcPs3d6P-ReW"
   },
   "outputs": [],
   "source": [
    "import numpy as np\n",
    "import pandas as pd\n",
    "import matplotlib.pyplot as plt\n",
    "%matplotlib inline\n",
    "import seaborn as sns\n",
    "import re,nltk"
   ]
  },
  {
   "cell_type": "code",
   "execution_count": 2,
   "metadata": {
    "colab": {
     "base_uri": "https://localhost:8080/",
     "height": 206
    },
    "executionInfo": {
     "elapsed": 2288,
     "status": "ok",
     "timestamp": 1651425996455,
     "user": {
      "displayName": "kazi afrime",
      "userId": "17483685230346107889"
     },
     "user_tz": -360
    },
    "id": "NUlecwqd-dpW",
    "outputId": "9d787197-1e58-4400-9d9c-0ca1ba1c36d3"
   },
   "outputs": [
    {
     "data": {
      "text/html": [
       "<div>\n",
       "<style scoped>\n",
       "    .dataframe tbody tr th:only-of-type {\n",
       "        vertical-align: middle;\n",
       "    }\n",
       "\n",
       "    .dataframe tbody tr th {\n",
       "        vertical-align: top;\n",
       "    }\n",
       "\n",
       "    .dataframe thead th {\n",
       "        text-align: right;\n",
       "    }\n",
       "</style>\n",
       "<table border=\"1\" class=\"dataframe\">\n",
       "  <thead>\n",
       "    <tr style=\"text-align: right;\">\n",
       "      <th></th>\n",
       "      <th>Comment</th>\n",
       "      <th>Label</th>\n",
       "    </tr>\n",
       "  </thead>\n",
       "  <tbody>\n",
       "    <tr>\n",
       "      <th>0</th>\n",
       "      <td>হ্যাতেরা টিস্যু দিয়া মুখ মোছবে আর জনগনের পকেট ...</td>\n",
       "      <td>Neutral</td>\n",
       "    </tr>\n",
       "    <tr>\n",
       "      <th>1</th>\n",
       "      <td>হ্যা! দেওয়াল ধরে দাড়ায় থাকো,পিছন দিয়ে এসে মেরে...</td>\n",
       "      <td>Negative</td>\n",
       "    </tr>\n",
       "    <tr>\n",
       "      <th>2</th>\n",
       "      <td>হ্যাঁ এইটা সুন্দর</td>\n",
       "      <td>Positive</td>\n",
       "    </tr>\n",
       "    <tr>\n",
       "      <th>3</th>\n",
       "      <td>হিজড়া  হিরো</td>\n",
       "      <td>Negative</td>\n",
       "    </tr>\n",
       "    <tr>\n",
       "      <th>4</th>\n",
       "      <td>হোগা মারা সারা</td>\n",
       "      <td>Negative</td>\n",
       "    </tr>\n",
       "  </tbody>\n",
       "</table>\n",
       "</div>"
      ],
      "text/plain": [
       "                                             Comment     Label\n",
       "0  হ্যাতেরা টিস্যু দিয়া মুখ মোছবে আর জনগনের পকেট ...   Neutral\n",
       "1  হ্যা! দেওয়াল ধরে দাড়ায় থাকো,পিছন দিয়ে এসে মেরে...  Negative\n",
       "2                                 হ্যাঁ এইটা সুন্দর   Positive\n",
       "3                                        হিজড়া  হিরো  Negative\n",
       "4                                     হোগা মারা সারা  Negative"
      ]
     },
     "execution_count": 2,
     "metadata": {},
     "output_type": "execute_result"
    }
   ],
   "source": [
    "data = pd.read_excel('../Data/Abusive_text.xlsx')\n",
    "data.head()"
   ]
  },
  {
   "cell_type": "code",
   "execution_count": 3,
   "metadata": {
    "colab": {
     "base_uri": "https://localhost:8080/",
     "height": 143
    },
    "executionInfo": {
     "elapsed": 17,
     "status": "ok",
     "timestamp": 1651425996456,
     "user": {
      "displayName": "kazi afrime",
      "userId": "17483685230346107889"
     },
     "user_tz": -360
    },
    "id": "1ZS9oSVZ-joZ",
    "outputId": "848d6ef0-ace1-4812-e1f7-b9a795d4cdfe"
   },
   "outputs": [
    {
     "data": {
      "text/html": [
       "<div>\n",
       "<style scoped>\n",
       "    .dataframe tbody tr th:only-of-type {\n",
       "        vertical-align: middle;\n",
       "    }\n",
       "\n",
       "    .dataframe tbody tr th {\n",
       "        vertical-align: top;\n",
       "    }\n",
       "\n",
       "    .dataframe thead th {\n",
       "        text-align: right;\n",
       "    }\n",
       "</style>\n",
       "<table border=\"1\" class=\"dataframe\">\n",
       "  <thead>\n",
       "    <tr style=\"text-align: right;\">\n",
       "      <th></th>\n",
       "      <th>Label</th>\n",
       "      <th>counts</th>\n",
       "    </tr>\n",
       "  </thead>\n",
       "  <tbody>\n",
       "    <tr>\n",
       "      <th>0</th>\n",
       "      <td>Negative</td>\n",
       "      <td>2984</td>\n",
       "    </tr>\n",
       "    <tr>\n",
       "      <th>1</th>\n",
       "      <td>Neutral</td>\n",
       "      <td>2068</td>\n",
       "    </tr>\n",
       "    <tr>\n",
       "      <th>2</th>\n",
       "      <td>Positive</td>\n",
       "      <td>1796</td>\n",
       "    </tr>\n",
       "  </tbody>\n",
       "</table>\n",
       "</div>"
      ],
      "text/plain": [
       "      Label  counts\n",
       "0  Negative    2984\n",
       "1   Neutral    2068\n",
       "2  Positive    1796"
      ]
     },
     "execution_count": 3,
     "metadata": {},
     "output_type": "execute_result"
    }
   ],
   "source": [
    "data.groupby('Label').size().reset_index(name='counts')"
   ]
  },
  {
   "cell_type": "code",
   "execution_count": 4,
   "metadata": {
    "id": "m-v-lAANDprg"
   },
   "outputs": [],
   "source": [
    "def process_comments(Comment): \n",
    "    Comment = re.sub('[^\\u0980-\\u09FF]',' ',Comment) #removing unnecessary punctuation\n",
    "    Comment = re.sub('[?.`*^()!°¢܌Ͱ̰ߒנ~×Ҡߘ:ҰߑÍ|।;!,&%\\'@#$><A-Za-z0+-9=./''\"\"_০-৯]', '', Comment)\n",
    "    Comment = re.sub(r'(\\W)(?=\\1)', '', Comment)\n",
    "    Comment = re.sub(r'https?:\\/\\/.*[\\r\\n]*', '', Comment, flags=re.MULTILINE)\n",
    "    Comment = re.sub(r'\\<a href', ' ', Comment)\n",
    "    Comment = re.sub(r'&amp;', '', Comment) \n",
    "    Comment = re.sub(r'<br />', ' ', Comment)\n",
    "    Comment = re.sub(r'\\'', ' ', Comment)\n",
    "    Comment = re.sub(r'ߑͰߑ̰ߒנ', '', Comment)\n",
    "    Comment = re.sub(r'ߎɰߎɰߎɍ', '', Comment)\n",
    "    return Comment"
   ]
  },
  {
   "cell_type": "code",
   "execution_count": 5,
   "metadata": {
    "colab": {
     "base_uri": "https://localhost:8080/",
     "height": 424
    },
    "executionInfo": {
     "elapsed": 15,
     "status": "ok",
     "timestamp": 1651425996457,
     "user": {
      "displayName": "kazi afrime",
      "userId": "17483685230346107889"
     },
     "user_tz": -360
    },
    "id": "MJpmpaXpDtmj",
    "outputId": "43befdb6-42c4-4fce-f81e-50f51f4fb8bc"
   },
   "outputs": [
    {
     "data": {
      "text/html": [
       "<div>\n",
       "<style scoped>\n",
       "    .dataframe tbody tr th:only-of-type {\n",
       "        vertical-align: middle;\n",
       "    }\n",
       "\n",
       "    .dataframe tbody tr th {\n",
       "        vertical-align: top;\n",
       "    }\n",
       "\n",
       "    .dataframe thead th {\n",
       "        text-align: right;\n",
       "    }\n",
       "</style>\n",
       "<table border=\"1\" class=\"dataframe\">\n",
       "  <thead>\n",
       "    <tr style=\"text-align: right;\">\n",
       "      <th></th>\n",
       "      <th>Comment</th>\n",
       "      <th>Label</th>\n",
       "      <th>Cleaned</th>\n",
       "    </tr>\n",
       "  </thead>\n",
       "  <tbody>\n",
       "    <tr>\n",
       "      <th>0</th>\n",
       "      <td>হ্যাতেরা টিস্যু দিয়া মুখ মোছবে আর জনগনের পকেট ...</td>\n",
       "      <td>Neutral</td>\n",
       "      <td>হ্যাতেরা টিস্যু দিয়া মুখ মোছবে আর জনগনের পকেট ...</td>\n",
       "    </tr>\n",
       "    <tr>\n",
       "      <th>1</th>\n",
       "      <td>হ্যা! দেওয়াল ধরে দাড়ায় থাকো,পিছন দিয়ে এসে মেরে...</td>\n",
       "      <td>Negative</td>\n",
       "      <td>হ্যা দেওয়াল ধরে দাড়ায় থাকো পিছন দিয়ে এসে মেরে ...</td>\n",
       "    </tr>\n",
       "    <tr>\n",
       "      <th>2</th>\n",
       "      <td>হ্যাঁ এইটা সুন্দর</td>\n",
       "      <td>Positive</td>\n",
       "      <td>হ্যাঁ এইটা সুন্দর</td>\n",
       "    </tr>\n",
       "    <tr>\n",
       "      <th>3</th>\n",
       "      <td>হিজড়া  হিরো</td>\n",
       "      <td>Negative</td>\n",
       "      <td>হিজড়া হিরো</td>\n",
       "    </tr>\n",
       "    <tr>\n",
       "      <th>4</th>\n",
       "      <td>হোগা মারা সারা</td>\n",
       "      <td>Negative</td>\n",
       "      <td>হোগা মারা সারা</td>\n",
       "    </tr>\n",
       "    <tr>\n",
       "      <th>...</th>\n",
       "      <td>...</td>\n",
       "      <td>...</td>\n",
       "      <td>...</td>\n",
       "    </tr>\n",
       "    <tr>\n",
       "      <th>6843</th>\n",
       "      <td>অনেক অনেক  দোয়া রইল অফুরন্ত।</td>\n",
       "      <td>Positive</td>\n",
       "      <td>অনেক অনেক দোয়া রইল অফুরন্ত</td>\n",
       "    </tr>\n",
       "    <tr>\n",
       "      <th>6844</th>\n",
       "      <td>মোটামুটি ভালোই  হয়েছে ভিডিওটা ।</td>\n",
       "      <td>Positive</td>\n",
       "      <td>মোটামুটি ভালোই হয়েছে ভিডিওটা</td>\n",
       "    </tr>\n",
       "    <tr>\n",
       "      <th>6845</th>\n",
       "      <td>বাংলাদেশ থেকে দাদা আপনার প্রতি অনেক অনেক ভালোবাসা</td>\n",
       "      <td>Positive</td>\n",
       "      <td>বাংলাদেশ থেকে দাদা আপনার প্রতি অনেক অনেক ভালোবাসা</td>\n",
       "    </tr>\n",
       "    <tr>\n",
       "      <th>6846</th>\n",
       "      <td>তোমার ভিডিও গুলি আমার মন ভালো করার জন্য যথেষ্ট</td>\n",
       "      <td>Positive</td>\n",
       "      <td>তোমার ভিডিও গুলি আমার মন ভালো করার জন্য যথেষ্ট</td>\n",
       "    </tr>\n",
       "    <tr>\n",
       "      <th>6847</th>\n",
       "      <td>কিছু কিছু সময় চোখের পানি ধরে রাখা যায় না, শু...</td>\n",
       "      <td>Positive</td>\n",
       "      <td>কিছু কিছু সময় চোখের পানি ধরে রাখা যায় না শুভ...</td>\n",
       "    </tr>\n",
       "  </tbody>\n",
       "</table>\n",
       "<p>6848 rows × 3 columns</p>\n",
       "</div>"
      ],
      "text/plain": [
       "                                                Comment     Label  \\\n",
       "0     হ্যাতেরা টিস্যু দিয়া মুখ মোছবে আর জনগনের পকেট ...   Neutral   \n",
       "1     হ্যা! দেওয়াল ধরে দাড়ায় থাকো,পিছন দিয়ে এসে মেরে...  Negative   \n",
       "2                                    হ্যাঁ এইটা সুন্দর   Positive   \n",
       "3                                           হিজড়া  হিরো  Negative   \n",
       "4                                        হোগা মারা সারা  Negative   \n",
       "...                                                 ...       ...   \n",
       "6843                       অনেক অনেক  দোয়া রইল অফুরন্ত।  Positive   \n",
       "6844                  মোটামুটি ভালোই  হয়েছে ভিডিওটা ।   Positive   \n",
       "6845  বাংলাদেশ থেকে দাদা আপনার প্রতি অনেক অনেক ভালোবাসা  Positive   \n",
       "6846    তোমার ভিডিও গুলি আমার মন ভালো করার জন্য যথেষ্ট  Positive   \n",
       "6847  কিছু কিছু সময় চোখের পানি ধরে রাখা যায় না, শু...  Positive   \n",
       "\n",
       "                                                Cleaned  \n",
       "0     হ্যাতেরা টিস্যু দিয়া মুখ মোছবে আর জনগনের পকেট ...  \n",
       "1     হ্যা দেওয়াল ধরে দাড়ায় থাকো পিছন দিয়ে এসে মেরে ...  \n",
       "2                                    হ্যাঁ এইটা সুন্দর   \n",
       "3                                            হিজড়া হিরো  \n",
       "4                                        হোগা মারা সারা  \n",
       "...                                                 ...  \n",
       "6843                        অনেক অনেক দোয়া রইল অফুরন্ত   \n",
       "6844                     মোটামুটি ভালোই হয়েছে ভিডিওটা   \n",
       "6845  বাংলাদেশ থেকে দাদা আপনার প্রতি অনেক অনেক ভালোবাসা  \n",
       "6846    তোমার ভিডিও গুলি আমার মন ভালো করার জন্য যথেষ্ট  \n",
       "6847  কিছু কিছু সময় চোখের পানি ধরে রাখা যায় না শুভ...  \n",
       "\n",
       "[6848 rows x 3 columns]"
      ]
     },
     "execution_count": 5,
     "metadata": {},
     "output_type": "execute_result"
    }
   ],
   "source": [
    "data['Cleaned'] = data['Comment'].apply(process_comments)  \n",
    "data"
   ]
  },
  {
   "cell_type": "code",
   "execution_count": 6,
   "metadata": {
    "colab": {
     "base_uri": "https://localhost:8080/"
    },
    "executionInfo": {
     "elapsed": 15,
     "status": "ok",
     "timestamp": 1651425996458,
     "user": {
      "displayName": "kazi afrime",
      "userId": "17483685230346107889"
     },
     "user_tz": -360
    },
    "id": "6h6-s9zrEGNP",
    "outputId": "b916dae7-5d70-4a9a-9713-46335466791b"
   },
   "outputs": [
    {
     "name": "stdout",
     "output_type": "stream",
     "text": [
      "<class 'pandas.core.frame.DataFrame'>\n",
      "RangeIndex: 6848 entries, 0 to 6847\n",
      "Data columns (total 3 columns):\n",
      " #   Column   Non-Null Count  Dtype \n",
      "---  ------   --------------  ----- \n",
      " 0   Comment  6848 non-null   object\n",
      " 1   Label    6848 non-null   object\n",
      " 2   Cleaned  6848 non-null   object\n",
      "dtypes: object(3)\n",
      "memory usage: 160.6+ KB\n"
     ]
    }
   ],
   "source": [
    "data.info()"
   ]
  },
  {
   "cell_type": "code",
   "execution_count": 7,
   "metadata": {
    "id": "cMxfhhC-EI0Y"
   },
   "outputs": [],
   "source": [
    "stopwords_list ='../Data/stopwords-bn.txt'"
   ]
  },
  {
   "cell_type": "code",
   "execution_count": 8,
   "metadata": {
    "id": "pDUV446JEMd5"
   },
   "outputs": [],
   "source": [
    "def stopword_removal(Comment,stopwords= stopwords_list):\n",
    "    stp,num_of_stopwords =stopwords_info(stopwords)\n",
    "    result = Comment.split()\n",
    "    Comments = [word.strip() for word in result if word not in stp ]\n",
    "    Comments =\" \".join(Comments)\n",
    "    return Comments"
   ]
  },
  {
   "cell_type": "code",
   "execution_count": 9,
   "metadata": {
    "id": "sqnM03RYESYD"
   },
   "outputs": [],
   "source": [
    "def stopwords_info(filename):\n",
    "    stp = open(filename,'r',encoding='utf-8').read().split()\n",
    "    num_of_stopwords = len(stp)\n",
    "    return stp,num_of_stopwords"
   ]
  },
  {
   "cell_type": "code",
   "execution_count": 10,
   "metadata": {
    "colab": {
     "base_uri": "https://localhost:8080/",
     "height": 424
    },
    "executionInfo": {
     "elapsed": 9388,
     "status": "ok",
     "timestamp": 1651426006506,
     "user": {
      "displayName": "kazi afrime",
      "userId": "17483685230346107889"
     },
     "user_tz": -360
    },
    "id": "_KNofNv3EW9c",
    "outputId": "9b3ae3ff-ccd9-47ba-f13c-37b9bbc24bc3"
   },
   "outputs": [
    {
     "data": {
      "text/html": [
       "<div>\n",
       "<style scoped>\n",
       "    .dataframe tbody tr th:only-of-type {\n",
       "        vertical-align: middle;\n",
       "    }\n",
       "\n",
       "    .dataframe tbody tr th {\n",
       "        vertical-align: top;\n",
       "    }\n",
       "\n",
       "    .dataframe thead th {\n",
       "        text-align: right;\n",
       "    }\n",
       "</style>\n",
       "<table border=\"1\" class=\"dataframe\">\n",
       "  <thead>\n",
       "    <tr style=\"text-align: right;\">\n",
       "      <th></th>\n",
       "      <th>Comment</th>\n",
       "      <th>Label</th>\n",
       "      <th>Cleaned</th>\n",
       "    </tr>\n",
       "  </thead>\n",
       "  <tbody>\n",
       "    <tr>\n",
       "      <th>0</th>\n",
       "      <td>হ্যাতেরা টিস্যু দিয়া মুখ মোছবে আর জনগনের পকেট ...</td>\n",
       "      <td>Neutral</td>\n",
       "      <td>হ্যাতেরা টিস্যু দিয়া মুখ মোছবে জনগনের পকেট কাটা</td>\n",
       "    </tr>\n",
       "    <tr>\n",
       "      <th>1</th>\n",
       "      <td>হ্যা! দেওয়াল ধরে দাড়ায় থাকো,পিছন দিয়ে এসে মেরে...</td>\n",
       "      <td>Negative</td>\n",
       "      <td>হ্যা দেওয়াল দাড়ায় থাকো পিছন দিয়ে মেরে দিবে</td>\n",
       "    </tr>\n",
       "    <tr>\n",
       "      <th>2</th>\n",
       "      <td>হ্যাঁ এইটা সুন্দর</td>\n",
       "      <td>Positive</td>\n",
       "      <td>হ্যাঁ এইটা সুন্দর</td>\n",
       "    </tr>\n",
       "    <tr>\n",
       "      <th>3</th>\n",
       "      <td>হিজড়া  হিরো</td>\n",
       "      <td>Negative</td>\n",
       "      <td>হিজড়া হিরো</td>\n",
       "    </tr>\n",
       "    <tr>\n",
       "      <th>4</th>\n",
       "      <td>হোগা মারা সারা</td>\n",
       "      <td>Negative</td>\n",
       "      <td>হোগা মারা সারা</td>\n",
       "    </tr>\n",
       "    <tr>\n",
       "      <th>...</th>\n",
       "      <td>...</td>\n",
       "      <td>...</td>\n",
       "      <td>...</td>\n",
       "    </tr>\n",
       "    <tr>\n",
       "      <th>6843</th>\n",
       "      <td>অনেক অনেক  দোয়া রইল অফুরন্ত।</td>\n",
       "      <td>Positive</td>\n",
       "      <td>দোয়া রইল অফুরন্ত</td>\n",
       "    </tr>\n",
       "    <tr>\n",
       "      <th>6844</th>\n",
       "      <td>মোটামুটি ভালোই  হয়েছে ভিডিওটা ।</td>\n",
       "      <td>Positive</td>\n",
       "      <td>মোটামুটি ভালোই ভিডিওটা</td>\n",
       "    </tr>\n",
       "    <tr>\n",
       "      <th>6845</th>\n",
       "      <td>বাংলাদেশ থেকে দাদা আপনার প্রতি অনেক অনেক ভালোবাসা</td>\n",
       "      <td>Positive</td>\n",
       "      <td>বাংলাদেশ দাদা ভালোবাসা</td>\n",
       "    </tr>\n",
       "    <tr>\n",
       "      <th>6846</th>\n",
       "      <td>তোমার ভিডিও গুলি আমার মন ভালো করার জন্য যথেষ্ট</td>\n",
       "      <td>Positive</td>\n",
       "      <td>তোমার ভিডিও মন ভালো যথেষ্ট</td>\n",
       "    </tr>\n",
       "    <tr>\n",
       "      <th>6847</th>\n",
       "      <td>কিছু কিছু সময় চোখের পানি ধরে রাখা যায় না, শু...</td>\n",
       "      <td>Positive</td>\n",
       "      <td>সময় চোখের পানি না শুভ কামনা রইলো তৌহিদ আফ্রিদির</td>\n",
       "    </tr>\n",
       "  </tbody>\n",
       "</table>\n",
       "<p>6848 rows × 3 columns</p>\n",
       "</div>"
      ],
      "text/plain": [
       "                                                Comment     Label  \\\n",
       "0     হ্যাতেরা টিস্যু দিয়া মুখ মোছবে আর জনগনের পকেট ...   Neutral   \n",
       "1     হ্যা! দেওয়াল ধরে দাড়ায় থাকো,পিছন দিয়ে এসে মেরে...  Negative   \n",
       "2                                    হ্যাঁ এইটা সুন্দর   Positive   \n",
       "3                                           হিজড়া  হিরো  Negative   \n",
       "4                                        হোগা মারা সারা  Negative   \n",
       "...                                                 ...       ...   \n",
       "6843                       অনেক অনেক  দোয়া রইল অফুরন্ত।  Positive   \n",
       "6844                  মোটামুটি ভালোই  হয়েছে ভিডিওটা ।   Positive   \n",
       "6845  বাংলাদেশ থেকে দাদা আপনার প্রতি অনেক অনেক ভালোবাসা  Positive   \n",
       "6846    তোমার ভিডিও গুলি আমার মন ভালো করার জন্য যথেষ্ট  Positive   \n",
       "6847  কিছু কিছু সময় চোখের পানি ধরে রাখা যায় না, শু...  Positive   \n",
       "\n",
       "                                               Cleaned  \n",
       "0      হ্যাতেরা টিস্যু দিয়া মুখ মোছবে জনগনের পকেট কাটা  \n",
       "1           হ্যা দেওয়াল দাড়ায় থাকো পিছন দিয়ে মেরে দিবে  \n",
       "2                                    হ্যাঁ এইটা সুন্দর  \n",
       "3                                           হিজড়া হিরো  \n",
       "4                                       হোগা মারা সারা  \n",
       "...                                                ...  \n",
       "6843                                  দোয়া রইল অফুরন্ত  \n",
       "6844                            মোটামুটি ভালোই ভিডিওটা  \n",
       "6845                            বাংলাদেশ দাদা ভালোবাসা  \n",
       "6846                       তোমার ভিডিও মন ভালো যথেষ্ট  \n",
       "6847  সময় চোখের পানি না শুভ কামনা রইলো তৌহিদ আফ্রিদির  \n",
       "\n",
       "[6848 rows x 3 columns]"
      ]
     },
     "execution_count": 10,
     "metadata": {},
     "output_type": "execute_result"
    }
   ],
   "source": [
    "data['Cleaned'] = data['Cleaned'].apply(stopword_removal)  \n",
    "data"
   ]
  },
  {
   "cell_type": "code",
   "execution_count": 11,
   "metadata": {
    "colab": {
     "base_uri": "https://localhost:8080/"
    },
    "executionInfo": {
     "elapsed": 408,
     "status": "ok",
     "timestamp": 1651426026930,
     "user": {
      "displayName": "kazi afrime",
      "userId": "17483685230346107889"
     },
     "user_tz": -360
    },
    "id": "Fp4LQqVOqT9w",
    "outputId": "54b09f6f-0047-4097-bbbe-ea211123ea11"
   },
   "outputs": [
    {
     "name": "stdout",
     "output_type": "stream",
     "text": [
      "<class 'pandas.core.frame.DataFrame'>\n",
      "RangeIndex: 6848 entries, 0 to 6847\n",
      "Data columns (total 3 columns):\n",
      " #   Column   Non-Null Count  Dtype \n",
      "---  ------   --------------  ----- \n",
      " 0   Comment  6848 non-null   object\n",
      " 1   Label    6848 non-null   object\n",
      " 2   Cleaned  6848 non-null   object\n",
      "dtypes: object(3)\n",
      "memory usage: 160.6+ KB\n"
     ]
    }
   ],
   "source": [
    "data.info()"
   ]
  },
  {
   "cell_type": "code",
   "execution_count": 12,
   "metadata": {
    "id": "JAj_VGEbEfhk"
   },
   "outputs": [],
   "source": [
    "data.to_excel('Abusive_text_clean.xlsx')"
   ]
  },
  {
   "cell_type": "code",
   "execution_count": null,
   "metadata": {},
   "outputs": [],
   "source": []
  }
 ],
 "metadata": {
  "colab": {
   "collapsed_sections": [],
   "name": "BA_text_pre.ipynb",
   "provenance": []
  },
  "kernelspec": {
   "display_name": "Python 3",
   "language": "python",
   "name": "python3"
  },
  "language_info": {
   "codemirror_mode": {
    "name": "ipython",
    "version": 3
   },
   "file_extension": ".py",
   "mimetype": "text/x-python",
   "name": "python",
   "nbconvert_exporter": "python",
   "pygments_lexer": "ipython3",
   "version": "3.7.10"
  }
 },
 "nbformat": 4,
 "nbformat_minor": 1
}
